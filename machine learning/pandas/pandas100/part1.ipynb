{
 "cells": [
  {
   "cell_type": "markdown",
   "metadata": {},
   "source": [
    "How to import pandas and check version"
   ]
  },
  {
   "cell_type": "code",
   "execution_count": 2,
   "metadata": {},
   "outputs": [
    {
     "name": "stdout",
     "output_type": "stream",
     "text": [
      "0.23.4\n",
      "{'system': {'commit': None, 'python': '3.6.7.final.0', 'python-bits': 64, 'OS': 'Darwin', 'OS-release': '18.0.0', 'machine': 'x86_64', 'processor': 'i386', 'byteorder': 'little', 'LC_ALL': 'None', 'LANG': 'en_CA.UTF-8', 'LOCALE': 'en_CA.UTF-8'}, 'dependencies': {'pandas': '0.23.4', 'pytest': '3.2.1', 'pip': '18.1', 'setuptools': '40.5.0', 'Cython': '0.26.1', 'numpy': '1.14.2', 'scipy': '1.0.0', 'pyarrow': None, 'xarray': None, 'IPython': '6.1.0', 'sphinx': '1.6.3', 'patsy': '0.4.1', 'dateutil': '2.6.1', 'pytz': '2017.2', 'blosc': None, 'bottleneck': '1.2.1', 'tables': '3.4.4', 'numexpr': '2.6.2', 'feather': None, 'matplotlib': '3.0.2', 'openpyxl': '2.4.8', 'xlrd': '1.1.0', 'xlwt': '1.2.0', 'xlsxwriter': '1.0.2', 'lxml': '4.1.0', 'bs4': '4.6.0', 'html5lib': '0.999999999', 'sqlalchemy': '1.1.13', 'pymysql': None, 'psycopg2': '2.7.1 (dt dec pq3 ext lo64)', 'jinja2': '2.9.6', 's3fs': None, 'fastparquet': None, 'pandas_gbq': None, 'pandas_datareader': None}}\n",
      "None\n"
     ]
    }
   ],
   "source": [
    "import pandas as pd\n",
    "print(pd.__version__)\n",
    "print(pd.show_versions(as_json=True))"
   ]
  },
  {
   "cell_type": "code",
   "execution_count": null,
   "metadata": {
    "collapsed": true
   },
   "outputs": [],
   "source": [
    "git filter-branch --force --index-filter \\\n",
    "'git rm --cached --ignore-unmatch X.pickle' \\\n",
    "--prune-empty --tag-name-filter cat -- --all\n",
    "\n",
    "echo \"machine\\ learning/sentdex/X.pickle\" >> .gitignore\n",
    "\n",
    "git commit -m \"Add X.pickle to .gitignore\"\n",
    "\n",
    "git rm --cached --ignore-unmatch 'machine learning/.DS_Store'\n",
    "\n",
    "git filter-branch --force --index-filter \\\n",
    "'git rm --cached --ignore-unmatch machine learning/.DS_Store' \\\n",
    "--prune-empty --tag-name-filter cat -- --all"
   ]
  }
 ],
 "metadata": {
  "kernelspec": {
   "display_name": "Python 3",
   "language": "python",
   "name": "python3"
  },
  "language_info": {
   "codemirror_mode": {
    "name": "ipython",
    "version": 3
   },
   "file_extension": ".py",
   "mimetype": "text/x-python",
   "name": "python",
   "nbconvert_exporter": "python",
   "pygments_lexer": "ipython3",
   "version": "3.6.7"
  }
 },
 "nbformat": 4,
 "nbformat_minor": 2
}
