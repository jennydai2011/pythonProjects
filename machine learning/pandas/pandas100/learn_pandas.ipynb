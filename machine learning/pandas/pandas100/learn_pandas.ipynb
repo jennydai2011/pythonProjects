{
 "cells": [
  {
   "cell_type": "code",
   "execution_count": 29,
   "metadata": {},
   "outputs": [
    {
     "data": {
      "text/plain": [
       "'0.23.4'"
      ]
     },
     "execution_count": 29,
     "metadata": {},
     "output_type": "execute_result"
    }
   ],
   "source": [
    "import pandas as pd\n",
    "import numpy as np\n",
    "\n",
    "pd.__version__\n"
   ]
  },
  {
   "cell_type": "code",
   "execution_count": 30,
   "metadata": {},
   "outputs": [
    {
     "data": {
      "text/plain": [
       "DatetimeIndex(['2018-12-27', '2018-12-28', '2018-12-29', '2018-12-30',\n",
       "               '2018-12-31', '2019-01-01', '2019-01-02', '2019-01-03',\n",
       "               '2019-01-04', '2019-01-05'],\n",
       "              dtype='datetime64[ns]', freq='D')"
      ]
     },
     "execution_count": 30,
     "metadata": {},
     "output_type": "execute_result"
    }
   ],
   "source": [
    "dates = pd.date_range('20181227', periods=10)\n",
    "dates"
   ]
  },
  {
   "cell_type": "code",
   "execution_count": 6,
   "metadata": {},
   "outputs": [
    {
     "data": {
      "text/html": [
       "<div>\n",
       "<style scoped>\n",
       "    .dataframe tbody tr th:only-of-type {\n",
       "        vertical-align: middle;\n",
       "    }\n",
       "\n",
       "    .dataframe tbody tr th {\n",
       "        vertical-align: top;\n",
       "    }\n",
       "\n",
       "    .dataframe thead th {\n",
       "        text-align: right;\n",
       "    }\n",
       "</style>\n",
       "<table border=\"1\" class=\"dataframe\">\n",
       "  <thead>\n",
       "    <tr style=\"text-align: right;\">\n",
       "      <th></th>\n",
       "      <th>A</th>\n",
       "      <th>B</th>\n",
       "      <th>C</th>\n",
       "      <th>D</th>\n",
       "    </tr>\n",
       "  </thead>\n",
       "  <tbody>\n",
       "    <tr>\n",
       "      <th>2018-12-27</th>\n",
       "      <td>-0.568760</td>\n",
       "      <td>1.597978</td>\n",
       "      <td>1.454101</td>\n",
       "      <td>-0.347662</td>\n",
       "    </tr>\n",
       "    <tr>\n",
       "      <th>2018-12-28</th>\n",
       "      <td>0.357688</td>\n",
       "      <td>0.217543</td>\n",
       "      <td>-0.586735</td>\n",
       "      <td>-1.405633</td>\n",
       "    </tr>\n",
       "    <tr>\n",
       "      <th>2018-12-29</th>\n",
       "      <td>1.277920</td>\n",
       "      <td>0.038991</td>\n",
       "      <td>1.448607</td>\n",
       "      <td>0.454571</td>\n",
       "    </tr>\n",
       "    <tr>\n",
       "      <th>2018-12-30</th>\n",
       "      <td>0.303524</td>\n",
       "      <td>0.485560</td>\n",
       "      <td>0.406158</td>\n",
       "      <td>-0.199256</td>\n",
       "    </tr>\n",
       "    <tr>\n",
       "      <th>2018-12-31</th>\n",
       "      <td>-0.214413</td>\n",
       "      <td>0.898735</td>\n",
       "      <td>0.681016</td>\n",
       "      <td>0.084672</td>\n",
       "    </tr>\n",
       "    <tr>\n",
       "      <th>2019-01-01</th>\n",
       "      <td>-0.665130</td>\n",
       "      <td>0.739385</td>\n",
       "      <td>0.183530</td>\n",
       "      <td>-0.600182</td>\n",
       "    </tr>\n",
       "    <tr>\n",
       "      <th>2019-01-02</th>\n",
       "      <td>-1.199389</td>\n",
       "      <td>0.175204</td>\n",
       "      <td>0.643070</td>\n",
       "      <td>-0.037645</td>\n",
       "    </tr>\n",
       "    <tr>\n",
       "      <th>2019-01-03</th>\n",
       "      <td>0.600307</td>\n",
       "      <td>0.225677</td>\n",
       "      <td>-0.083836</td>\n",
       "      <td>-0.112268</td>\n",
       "    </tr>\n",
       "    <tr>\n",
       "      <th>2019-01-04</th>\n",
       "      <td>0.957897</td>\n",
       "      <td>-0.835610</td>\n",
       "      <td>-0.912515</td>\n",
       "      <td>-1.813901</td>\n",
       "    </tr>\n",
       "    <tr>\n",
       "      <th>2019-01-05</th>\n",
       "      <td>0.831555</td>\n",
       "      <td>-0.010168</td>\n",
       "      <td>-0.204144</td>\n",
       "      <td>-0.187566</td>\n",
       "    </tr>\n",
       "  </tbody>\n",
       "</table>\n",
       "</div>"
      ],
      "text/plain": [
       "                   A         B         C         D\n",
       "2018-12-27 -0.568760  1.597978  1.454101 -0.347662\n",
       "2018-12-28  0.357688  0.217543 -0.586735 -1.405633\n",
       "2018-12-29  1.277920  0.038991  1.448607  0.454571\n",
       "2018-12-30  0.303524  0.485560  0.406158 -0.199256\n",
       "2018-12-31 -0.214413  0.898735  0.681016  0.084672\n",
       "2019-01-01 -0.665130  0.739385  0.183530 -0.600182\n",
       "2019-01-02 -1.199389  0.175204  0.643070 -0.037645\n",
       "2019-01-03  0.600307  0.225677 -0.083836 -0.112268\n",
       "2019-01-04  0.957897 -0.835610 -0.912515 -1.813901\n",
       "2019-01-05  0.831555 -0.010168 -0.204144 -0.187566"
      ]
     },
     "execution_count": 6,
     "metadata": {},
     "output_type": "execute_result"
    }
   ],
   "source": [
    "df = pd.DataFrame(np.random.randn(10,4), index=dates, columns=list('ABCD'))\n",
    "df"
   ]
  },
  {
   "cell_type": "code",
   "execution_count": 10,
   "metadata": {},
   "outputs": [
    {
     "data": {
      "text/html": [
       "<div>\n",
       "<style scoped>\n",
       "    .dataframe tbody tr th:only-of-type {\n",
       "        vertical-align: middle;\n",
       "    }\n",
       "\n",
       "    .dataframe tbody tr th {\n",
       "        vertical-align: top;\n",
       "    }\n",
       "\n",
       "    .dataframe thead th {\n",
       "        text-align: right;\n",
       "    }\n",
       "</style>\n",
       "<table border=\"1\" class=\"dataframe\">\n",
       "  <thead>\n",
       "    <tr style=\"text-align: right;\">\n",
       "      <th></th>\n",
       "      <th>A</th>\n",
       "    </tr>\n",
       "  </thead>\n",
       "  <tbody>\n",
       "    <tr>\n",
       "      <th>0</th>\n",
       "      <td>0.792488</td>\n",
       "    </tr>\n",
       "    <tr>\n",
       "      <th>1</th>\n",
       "      <td>1.889730</td>\n",
       "    </tr>\n",
       "    <tr>\n",
       "      <th>2</th>\n",
       "      <td>0.248085</td>\n",
       "    </tr>\n",
       "    <tr>\n",
       "      <th>3</th>\n",
       "      <td>-1.194318</td>\n",
       "    </tr>\n",
       "    <tr>\n",
       "      <th>4</th>\n",
       "      <td>-0.602597</td>\n",
       "    </tr>\n",
       "    <tr>\n",
       "      <th>5</th>\n",
       "      <td>-0.657166</td>\n",
       "    </tr>\n",
       "    <tr>\n",
       "      <th>6</th>\n",
       "      <td>-0.179682</td>\n",
       "    </tr>\n",
       "    <tr>\n",
       "      <th>7</th>\n",
       "      <td>0.504020</td>\n",
       "    </tr>\n",
       "    <tr>\n",
       "      <th>8</th>\n",
       "      <td>-0.537998</td>\n",
       "    </tr>\n",
       "    <tr>\n",
       "      <th>9</th>\n",
       "      <td>-0.739363</td>\n",
       "    </tr>\n",
       "  </tbody>\n",
       "</table>\n",
       "</div>"
      ],
      "text/plain": [
       "          A\n",
       "0  0.792488\n",
       "1  1.889730\n",
       "2  0.248085\n",
       "3 -1.194318\n",
       "4 -0.602597\n",
       "5 -0.657166\n",
       "6 -0.179682\n",
       "7  0.504020\n",
       "8 -0.537998\n",
       "9 -0.739363"
      ]
     },
     "execution_count": 10,
     "metadata": {},
     "output_type": "execute_result"
    }
   ],
   "source": [
    "df2 = pd.DataFrame({'A':np.random.randn(10)})\n",
    "df2"
   ]
  },
  {
   "cell_type": "code",
   "execution_count": 13,
   "metadata": {},
   "outputs": [
    {
     "data": {
      "text/html": [
       "<div>\n",
       "<style scoped>\n",
       "    .dataframe tbody tr th:only-of-type {\n",
       "        vertical-align: middle;\n",
       "    }\n",
       "\n",
       "    .dataframe tbody tr th {\n",
       "        vertical-align: top;\n",
       "    }\n",
       "\n",
       "    .dataframe thead th {\n",
       "        text-align: right;\n",
       "    }\n",
       "</style>\n",
       "<table border=\"1\" class=\"dataframe\">\n",
       "  <thead>\n",
       "    <tr style=\"text-align: right;\">\n",
       "      <th></th>\n",
       "      <th>A</th>\n",
       "      <th>B</th>\n",
       "    </tr>\n",
       "  </thead>\n",
       "  <tbody>\n",
       "    <tr>\n",
       "      <th>0</th>\n",
       "      <td>2018-12-27</td>\n",
       "      <td>1</td>\n",
       "    </tr>\n",
       "  </tbody>\n",
       "</table>\n",
       "</div>"
      ],
      "text/plain": [
       "           A  B\n",
       "0 2018-12-27  1"
      ]
     },
     "execution_count": 13,
     "metadata": {},
     "output_type": "execute_result"
    }
   ],
   "source": [
    "df2 = pd.DataFrame({'A':pd.Timestamp('20181227'), 'B':pd.Series(1)})\n",
    "df2"
   ]
  },
  {
   "cell_type": "code",
   "execution_count": 15,
   "metadata": {},
   "outputs": [
    {
     "data": {
      "text/html": [
       "<div>\n",
       "<style scoped>\n",
       "    .dataframe tbody tr th:only-of-type {\n",
       "        vertical-align: middle;\n",
       "    }\n",
       "\n",
       "    .dataframe tbody tr th {\n",
       "        vertical-align: top;\n",
       "    }\n",
       "\n",
       "    .dataframe thead th {\n",
       "        text-align: right;\n",
       "    }\n",
       "</style>\n",
       "<table border=\"1\" class=\"dataframe\">\n",
       "  <thead>\n",
       "    <tr style=\"text-align: right;\">\n",
       "      <th></th>\n",
       "      <th>A</th>\n",
       "      <th>B</th>\n",
       "    </tr>\n",
       "  </thead>\n",
       "  <tbody>\n",
       "    <tr>\n",
       "      <th>0</th>\n",
       "      <td>2018-12-27</td>\n",
       "      <td>1</td>\n",
       "    </tr>\n",
       "    <tr>\n",
       "      <th>1</th>\n",
       "      <td>2018-12-27</td>\n",
       "      <td>1</td>\n",
       "    </tr>\n",
       "    <tr>\n",
       "      <th>2</th>\n",
       "      <td>2018-12-27</td>\n",
       "      <td>1</td>\n",
       "    </tr>\n",
       "    <tr>\n",
       "      <th>3</th>\n",
       "      <td>2018-12-27</td>\n",
       "      <td>1</td>\n",
       "    </tr>\n",
       "  </tbody>\n",
       "</table>\n",
       "</div>"
      ],
      "text/plain": [
       "           A  B\n",
       "0 2018-12-27  1\n",
       "1 2018-12-27  1\n",
       "2 2018-12-27  1\n",
       "3 2018-12-27  1"
      ]
     },
     "execution_count": 15,
     "metadata": {},
     "output_type": "execute_result"
    }
   ],
   "source": [
    "df2 = pd.DataFrame({'A':pd.Timestamp('20181227'), 'B':pd.Series(1, index=list(range(4)))})\n",
    "df2"
   ]
  },
  {
   "cell_type": "code",
   "execution_count": 16,
   "metadata": {},
   "outputs": [
    {
     "data": {
      "text/plain": [
       "A    datetime64[ns]\n",
       "B             int64\n",
       "dtype: object"
      ]
     },
     "execution_count": 16,
     "metadata": {},
     "output_type": "execute_result"
    }
   ],
   "source": [
    "df2.dtypes"
   ]
  },
  {
   "cell_type": "code",
   "execution_count": 17,
   "metadata": {},
   "outputs": [
    {
     "data": {
      "text/plain": [
       "A    float64\n",
       "B    float64\n",
       "C    float64\n",
       "D    float64\n",
       "dtype: object"
      ]
     },
     "execution_count": 17,
     "metadata": {},
     "output_type": "execute_result"
    }
   ],
   "source": [
    "df.dtypes"
   ]
  },
  {
   "cell_type": "code",
   "execution_count": 18,
   "metadata": {},
   "outputs": [
    {
     "data": {
      "text/html": [
       "<div>\n",
       "<style scoped>\n",
       "    .dataframe tbody tr th:only-of-type {\n",
       "        vertical-align: middle;\n",
       "    }\n",
       "\n",
       "    .dataframe tbody tr th {\n",
       "        vertical-align: top;\n",
       "    }\n",
       "\n",
       "    .dataframe thead th {\n",
       "        text-align: right;\n",
       "    }\n",
       "</style>\n",
       "<table border=\"1\" class=\"dataframe\">\n",
       "  <thead>\n",
       "    <tr style=\"text-align: right;\">\n",
       "      <th></th>\n",
       "      <th>A</th>\n",
       "      <th>B</th>\n",
       "      <th>C</th>\n",
       "      <th>D</th>\n",
       "    </tr>\n",
       "  </thead>\n",
       "  <tbody>\n",
       "    <tr>\n",
       "      <th>2018-12-27</th>\n",
       "      <td>-0.568760</td>\n",
       "      <td>1.597978</td>\n",
       "      <td>1.454101</td>\n",
       "      <td>-0.347662</td>\n",
       "    </tr>\n",
       "    <tr>\n",
       "      <th>2018-12-28</th>\n",
       "      <td>0.357688</td>\n",
       "      <td>0.217543</td>\n",
       "      <td>-0.586735</td>\n",
       "      <td>-1.405633</td>\n",
       "    </tr>\n",
       "    <tr>\n",
       "      <th>2018-12-29</th>\n",
       "      <td>1.277920</td>\n",
       "      <td>0.038991</td>\n",
       "      <td>1.448607</td>\n",
       "      <td>0.454571</td>\n",
       "    </tr>\n",
       "    <tr>\n",
       "      <th>2018-12-30</th>\n",
       "      <td>0.303524</td>\n",
       "      <td>0.485560</td>\n",
       "      <td>0.406158</td>\n",
       "      <td>-0.199256</td>\n",
       "    </tr>\n",
       "    <tr>\n",
       "      <th>2018-12-31</th>\n",
       "      <td>-0.214413</td>\n",
       "      <td>0.898735</td>\n",
       "      <td>0.681016</td>\n",
       "      <td>0.084672</td>\n",
       "    </tr>\n",
       "    <tr>\n",
       "      <th>2019-01-01</th>\n",
       "      <td>-0.665130</td>\n",
       "      <td>0.739385</td>\n",
       "      <td>0.183530</td>\n",
       "      <td>-0.600182</td>\n",
       "    </tr>\n",
       "    <tr>\n",
       "      <th>2019-01-02</th>\n",
       "      <td>-1.199389</td>\n",
       "      <td>0.175204</td>\n",
       "      <td>0.643070</td>\n",
       "      <td>-0.037645</td>\n",
       "    </tr>\n",
       "    <tr>\n",
       "      <th>2019-01-03</th>\n",
       "      <td>0.600307</td>\n",
       "      <td>0.225677</td>\n",
       "      <td>-0.083836</td>\n",
       "      <td>-0.112268</td>\n",
       "    </tr>\n",
       "    <tr>\n",
       "      <th>2019-01-04</th>\n",
       "      <td>0.957897</td>\n",
       "      <td>-0.835610</td>\n",
       "      <td>-0.912515</td>\n",
       "      <td>-1.813901</td>\n",
       "    </tr>\n",
       "    <tr>\n",
       "      <th>2019-01-05</th>\n",
       "      <td>0.831555</td>\n",
       "      <td>-0.010168</td>\n",
       "      <td>-0.204144</td>\n",
       "      <td>-0.187566</td>\n",
       "    </tr>\n",
       "  </tbody>\n",
       "</table>\n",
       "</div>"
      ],
      "text/plain": [
       "                   A         B         C         D\n",
       "2018-12-27 -0.568760  1.597978  1.454101 -0.347662\n",
       "2018-12-28  0.357688  0.217543 -0.586735 -1.405633\n",
       "2018-12-29  1.277920  0.038991  1.448607  0.454571\n",
       "2018-12-30  0.303524  0.485560  0.406158 -0.199256\n",
       "2018-12-31 -0.214413  0.898735  0.681016  0.084672\n",
       "2019-01-01 -0.665130  0.739385  0.183530 -0.600182\n",
       "2019-01-02 -1.199389  0.175204  0.643070 -0.037645\n",
       "2019-01-03  0.600307  0.225677 -0.083836 -0.112268\n",
       "2019-01-04  0.957897 -0.835610 -0.912515 -1.813901\n",
       "2019-01-05  0.831555 -0.010168 -0.204144 -0.187566"
      ]
     },
     "execution_count": 18,
     "metadata": {},
     "output_type": "execute_result"
    }
   ],
   "source": [
    "df"
   ]
  },
  {
   "cell_type": "code",
   "execution_count": 19,
   "metadata": {},
   "outputs": [
    {
     "data": {
      "text/html": [
       "<div>\n",
       "<style scoped>\n",
       "    .dataframe tbody tr th:only-of-type {\n",
       "        vertical-align: middle;\n",
       "    }\n",
       "\n",
       "    .dataframe tbody tr th {\n",
       "        vertical-align: top;\n",
       "    }\n",
       "\n",
       "    .dataframe thead th {\n",
       "        text-align: right;\n",
       "    }\n",
       "</style>\n",
       "<table border=\"1\" class=\"dataframe\">\n",
       "  <thead>\n",
       "    <tr style=\"text-align: right;\">\n",
       "      <th></th>\n",
       "      <th>A</th>\n",
       "      <th>B</th>\n",
       "      <th>C</th>\n",
       "      <th>D</th>\n",
       "    </tr>\n",
       "  </thead>\n",
       "  <tbody>\n",
       "    <tr>\n",
       "      <th>2018-12-27</th>\n",
       "      <td>-0.568760</td>\n",
       "      <td>1.597978</td>\n",
       "      <td>1.454101</td>\n",
       "      <td>-0.347662</td>\n",
       "    </tr>\n",
       "    <tr>\n",
       "      <th>2018-12-28</th>\n",
       "      <td>0.357688</td>\n",
       "      <td>0.217543</td>\n",
       "      <td>-0.586735</td>\n",
       "      <td>-1.405633</td>\n",
       "    </tr>\n",
       "    <tr>\n",
       "      <th>2018-12-29</th>\n",
       "      <td>1.277920</td>\n",
       "      <td>0.038991</td>\n",
       "      <td>1.448607</td>\n",
       "      <td>0.454571</td>\n",
       "    </tr>\n",
       "    <tr>\n",
       "      <th>2018-12-30</th>\n",
       "      <td>0.303524</td>\n",
       "      <td>0.485560</td>\n",
       "      <td>0.406158</td>\n",
       "      <td>-0.199256</td>\n",
       "    </tr>\n",
       "    <tr>\n",
       "      <th>2018-12-31</th>\n",
       "      <td>-0.214413</td>\n",
       "      <td>0.898735</td>\n",
       "      <td>0.681016</td>\n",
       "      <td>0.084672</td>\n",
       "    </tr>\n",
       "  </tbody>\n",
       "</table>\n",
       "</div>"
      ],
      "text/plain": [
       "                   A         B         C         D\n",
       "2018-12-27 -0.568760  1.597978  1.454101 -0.347662\n",
       "2018-12-28  0.357688  0.217543 -0.586735 -1.405633\n",
       "2018-12-29  1.277920  0.038991  1.448607  0.454571\n",
       "2018-12-30  0.303524  0.485560  0.406158 -0.199256\n",
       "2018-12-31 -0.214413  0.898735  0.681016  0.084672"
      ]
     },
     "execution_count": 19,
     "metadata": {},
     "output_type": "execute_result"
    }
   ],
   "source": [
    "df.head()"
   ]
  },
  {
   "cell_type": "code",
   "execution_count": 20,
   "metadata": {},
   "outputs": [
    {
     "data": {
      "text/html": [
       "<div>\n",
       "<style scoped>\n",
       "    .dataframe tbody tr th:only-of-type {\n",
       "        vertical-align: middle;\n",
       "    }\n",
       "\n",
       "    .dataframe tbody tr th {\n",
       "        vertical-align: top;\n",
       "    }\n",
       "\n",
       "    .dataframe thead th {\n",
       "        text-align: right;\n",
       "    }\n",
       "</style>\n",
       "<table border=\"1\" class=\"dataframe\">\n",
       "  <thead>\n",
       "    <tr style=\"text-align: right;\">\n",
       "      <th></th>\n",
       "      <th>A</th>\n",
       "      <th>B</th>\n",
       "      <th>C</th>\n",
       "      <th>D</th>\n",
       "    </tr>\n",
       "  </thead>\n",
       "  <tbody>\n",
       "    <tr>\n",
       "      <th>2018-12-27</th>\n",
       "      <td>-0.568760</td>\n",
       "      <td>1.597978</td>\n",
       "      <td>1.454101</td>\n",
       "      <td>-0.347662</td>\n",
       "    </tr>\n",
       "    <tr>\n",
       "      <th>2018-12-28</th>\n",
       "      <td>0.357688</td>\n",
       "      <td>0.217543</td>\n",
       "      <td>-0.586735</td>\n",
       "      <td>-1.405633</td>\n",
       "    </tr>\n",
       "    <tr>\n",
       "      <th>2018-12-29</th>\n",
       "      <td>1.277920</td>\n",
       "      <td>0.038991</td>\n",
       "      <td>1.448607</td>\n",
       "      <td>0.454571</td>\n",
       "    </tr>\n",
       "  </tbody>\n",
       "</table>\n",
       "</div>"
      ],
      "text/plain": [
       "                   A         B         C         D\n",
       "2018-12-27 -0.568760  1.597978  1.454101 -0.347662\n",
       "2018-12-28  0.357688  0.217543 -0.586735 -1.405633\n",
       "2018-12-29  1.277920  0.038991  1.448607  0.454571"
      ]
     },
     "execution_count": 20,
     "metadata": {},
     "output_type": "execute_result"
    }
   ],
   "source": [
    "df.head(3)"
   ]
  },
  {
   "cell_type": "code",
   "execution_count": 21,
   "metadata": {},
   "outputs": [
    {
     "data": {
      "text/html": [
       "<div>\n",
       "<style scoped>\n",
       "    .dataframe tbody tr th:only-of-type {\n",
       "        vertical-align: middle;\n",
       "    }\n",
       "\n",
       "    .dataframe tbody tr th {\n",
       "        vertical-align: top;\n",
       "    }\n",
       "\n",
       "    .dataframe thead th {\n",
       "        text-align: right;\n",
       "    }\n",
       "</style>\n",
       "<table border=\"1\" class=\"dataframe\">\n",
       "  <thead>\n",
       "    <tr style=\"text-align: right;\">\n",
       "      <th></th>\n",
       "      <th>A</th>\n",
       "      <th>B</th>\n",
       "      <th>C</th>\n",
       "      <th>D</th>\n",
       "    </tr>\n",
       "  </thead>\n",
       "  <tbody>\n",
       "    <tr>\n",
       "      <th>2019-01-03</th>\n",
       "      <td>0.600307</td>\n",
       "      <td>0.225677</td>\n",
       "      <td>-0.083836</td>\n",
       "      <td>-0.112268</td>\n",
       "    </tr>\n",
       "    <tr>\n",
       "      <th>2019-01-04</th>\n",
       "      <td>0.957897</td>\n",
       "      <td>-0.835610</td>\n",
       "      <td>-0.912515</td>\n",
       "      <td>-1.813901</td>\n",
       "    </tr>\n",
       "    <tr>\n",
       "      <th>2019-01-05</th>\n",
       "      <td>0.831555</td>\n",
       "      <td>-0.010168</td>\n",
       "      <td>-0.204144</td>\n",
       "      <td>-0.187566</td>\n",
       "    </tr>\n",
       "  </tbody>\n",
       "</table>\n",
       "</div>"
      ],
      "text/plain": [
       "                   A         B         C         D\n",
       "2019-01-03  0.600307  0.225677 -0.083836 -0.112268\n",
       "2019-01-04  0.957897 -0.835610 -0.912515 -1.813901\n",
       "2019-01-05  0.831555 -0.010168 -0.204144 -0.187566"
      ]
     },
     "execution_count": 21,
     "metadata": {},
     "output_type": "execute_result"
    }
   ],
   "source": [
    "df.tail(3)"
   ]
  },
  {
   "cell_type": "code",
   "execution_count": 22,
   "metadata": {},
   "outputs": [
    {
     "data": {
      "text/plain": [
       "Index(['A', 'B', 'C', 'D'], dtype='object')"
      ]
     },
     "execution_count": 22,
     "metadata": {},
     "output_type": "execute_result"
    }
   ],
   "source": [
    "df.columns"
   ]
  },
  {
   "cell_type": "code",
   "execution_count": 23,
   "metadata": {},
   "outputs": [
    {
     "data": {
      "text/plain": [
       "array([[-0.56875959,  1.59797829,  1.45410129, -0.34766191],\n",
       "       [ 0.35768788,  0.21754342, -0.58673483, -1.40563309],\n",
       "       [ 1.27792018,  0.03899063,  1.44860679,  0.45457072],\n",
       "       [ 0.30352351,  0.48556047,  0.40615822, -0.19925642],\n",
       "       [-0.21441344,  0.89873514,  0.6810157 ,  0.08467225],\n",
       "       [-0.66512957,  0.73938522,  0.18353042, -0.60018197],\n",
       "       [-1.19938892,  0.1752037 ,  0.64307012, -0.03764511],\n",
       "       [ 0.60030727,  0.22567706, -0.08383582, -0.11226811],\n",
       "       [ 0.95789709, -0.83560973, -0.91251451, -1.81390083],\n",
       "       [ 0.83155478, -0.01016778, -0.20414425, -0.18756585]])"
      ]
     },
     "execution_count": 23,
     "metadata": {},
     "output_type": "execute_result"
    }
   ],
   "source": [
    "df.values"
   ]
  },
  {
   "cell_type": "code",
   "execution_count": 24,
   "metadata": {},
   "outputs": [
    {
     "data": {
      "text/plain": [
       "pandas.core.frame.DataFrame"
      ]
     },
     "execution_count": 24,
     "metadata": {},
     "output_type": "execute_result"
    }
   ],
   "source": [
    "type(df)"
   ]
  },
  {
   "cell_type": "code",
   "execution_count": 25,
   "metadata": {},
   "outputs": [
    {
     "data": {
      "text/html": [
       "<div>\n",
       "<style scoped>\n",
       "    .dataframe tbody tr th:only-of-type {\n",
       "        vertical-align: middle;\n",
       "    }\n",
       "\n",
       "    .dataframe tbody tr th {\n",
       "        vertical-align: top;\n",
       "    }\n",
       "\n",
       "    .dataframe thead th {\n",
       "        text-align: right;\n",
       "    }\n",
       "</style>\n",
       "<table border=\"1\" class=\"dataframe\">\n",
       "  <thead>\n",
       "    <tr style=\"text-align: right;\">\n",
       "      <th></th>\n",
       "      <th>2018-12-27 00:00:00</th>\n",
       "      <th>2018-12-28 00:00:00</th>\n",
       "      <th>2018-12-29 00:00:00</th>\n",
       "      <th>2018-12-30 00:00:00</th>\n",
       "      <th>2018-12-31 00:00:00</th>\n",
       "      <th>2019-01-01 00:00:00</th>\n",
       "      <th>2019-01-02 00:00:00</th>\n",
       "      <th>2019-01-03 00:00:00</th>\n",
       "      <th>2019-01-04 00:00:00</th>\n",
       "      <th>2019-01-05 00:00:00</th>\n",
       "    </tr>\n",
       "  </thead>\n",
       "  <tbody>\n",
       "    <tr>\n",
       "      <th>A</th>\n",
       "      <td>-0.568760</td>\n",
       "      <td>0.357688</td>\n",
       "      <td>1.277920</td>\n",
       "      <td>0.303524</td>\n",
       "      <td>-0.214413</td>\n",
       "      <td>-0.665130</td>\n",
       "      <td>-1.199389</td>\n",
       "      <td>0.600307</td>\n",
       "      <td>0.957897</td>\n",
       "      <td>0.831555</td>\n",
       "    </tr>\n",
       "    <tr>\n",
       "      <th>B</th>\n",
       "      <td>1.597978</td>\n",
       "      <td>0.217543</td>\n",
       "      <td>0.038991</td>\n",
       "      <td>0.485560</td>\n",
       "      <td>0.898735</td>\n",
       "      <td>0.739385</td>\n",
       "      <td>0.175204</td>\n",
       "      <td>0.225677</td>\n",
       "      <td>-0.835610</td>\n",
       "      <td>-0.010168</td>\n",
       "    </tr>\n",
       "    <tr>\n",
       "      <th>C</th>\n",
       "      <td>1.454101</td>\n",
       "      <td>-0.586735</td>\n",
       "      <td>1.448607</td>\n",
       "      <td>0.406158</td>\n",
       "      <td>0.681016</td>\n",
       "      <td>0.183530</td>\n",
       "      <td>0.643070</td>\n",
       "      <td>-0.083836</td>\n",
       "      <td>-0.912515</td>\n",
       "      <td>-0.204144</td>\n",
       "    </tr>\n",
       "    <tr>\n",
       "      <th>D</th>\n",
       "      <td>-0.347662</td>\n",
       "      <td>-1.405633</td>\n",
       "      <td>0.454571</td>\n",
       "      <td>-0.199256</td>\n",
       "      <td>0.084672</td>\n",
       "      <td>-0.600182</td>\n",
       "      <td>-0.037645</td>\n",
       "      <td>-0.112268</td>\n",
       "      <td>-1.813901</td>\n",
       "      <td>-0.187566</td>\n",
       "    </tr>\n",
       "  </tbody>\n",
       "</table>\n",
       "</div>"
      ],
      "text/plain": [
       "   2018-12-27  2018-12-28  2018-12-29  2018-12-30  2018-12-31  2019-01-01  \\\n",
       "A   -0.568760    0.357688    1.277920    0.303524   -0.214413   -0.665130   \n",
       "B    1.597978    0.217543    0.038991    0.485560    0.898735    0.739385   \n",
       "C    1.454101   -0.586735    1.448607    0.406158    0.681016    0.183530   \n",
       "D   -0.347662   -1.405633    0.454571   -0.199256    0.084672   -0.600182   \n",
       "\n",
       "   2019-01-02  2019-01-03  2019-01-04  2019-01-05  \n",
       "A   -1.199389    0.600307    0.957897    0.831555  \n",
       "B    0.175204    0.225677   -0.835610   -0.010168  \n",
       "C    0.643070   -0.083836   -0.912515   -0.204144  \n",
       "D   -0.037645   -0.112268   -1.813901   -0.187566  "
      ]
     },
     "execution_count": 25,
     "metadata": {},
     "output_type": "execute_result"
    }
   ],
   "source": [
    "df.T"
   ]
  },
  {
   "cell_type": "code",
   "execution_count": 32,
   "metadata": {},
   "outputs": [
    {
     "data": {
      "text/html": [
       "<div>\n",
       "<style scoped>\n",
       "    .dataframe tbody tr th:only-of-type {\n",
       "        vertical-align: middle;\n",
       "    }\n",
       "\n",
       "    .dataframe tbody tr th {\n",
       "        vertical-align: top;\n",
       "    }\n",
       "\n",
       "    .dataframe thead th {\n",
       "        text-align: right;\n",
       "    }\n",
       "</style>\n",
       "<table border=\"1\" class=\"dataframe\">\n",
       "  <thead>\n",
       "    <tr style=\"text-align: right;\">\n",
       "      <th></th>\n",
       "      <th>A</th>\n",
       "      <th>B</th>\n",
       "      <th>C</th>\n",
       "      <th>D</th>\n",
       "    </tr>\n",
       "  </thead>\n",
       "  <tbody>\n",
       "    <tr>\n",
       "      <th>2019-01-04</th>\n",
       "      <td>0.957897</td>\n",
       "      <td>-0.835610</td>\n",
       "      <td>-0.912515</td>\n",
       "      <td>-1.813901</td>\n",
       "    </tr>\n",
       "    <tr>\n",
       "      <th>2018-12-28</th>\n",
       "      <td>0.357688</td>\n",
       "      <td>0.217543</td>\n",
       "      <td>-0.586735</td>\n",
       "      <td>-1.405633</td>\n",
       "    </tr>\n",
       "    <tr>\n",
       "      <th>2019-01-05</th>\n",
       "      <td>0.831555</td>\n",
       "      <td>-0.010168</td>\n",
       "      <td>-0.204144</td>\n",
       "      <td>-0.187566</td>\n",
       "    </tr>\n",
       "    <tr>\n",
       "      <th>2019-01-03</th>\n",
       "      <td>0.600307</td>\n",
       "      <td>0.225677</td>\n",
       "      <td>-0.083836</td>\n",
       "      <td>-0.112268</td>\n",
       "    </tr>\n",
       "    <tr>\n",
       "      <th>2019-01-01</th>\n",
       "      <td>-0.665130</td>\n",
       "      <td>0.739385</td>\n",
       "      <td>0.183530</td>\n",
       "      <td>-0.600182</td>\n",
       "    </tr>\n",
       "    <tr>\n",
       "      <th>2018-12-30</th>\n",
       "      <td>0.303524</td>\n",
       "      <td>0.485560</td>\n",
       "      <td>0.406158</td>\n",
       "      <td>-0.199256</td>\n",
       "    </tr>\n",
       "    <tr>\n",
       "      <th>2019-01-02</th>\n",
       "      <td>-1.199389</td>\n",
       "      <td>0.175204</td>\n",
       "      <td>0.643070</td>\n",
       "      <td>-0.037645</td>\n",
       "    </tr>\n",
       "    <tr>\n",
       "      <th>2018-12-31</th>\n",
       "      <td>-0.214413</td>\n",
       "      <td>0.898735</td>\n",
       "      <td>0.681016</td>\n",
       "      <td>0.084672</td>\n",
       "    </tr>\n",
       "    <tr>\n",
       "      <th>2018-12-29</th>\n",
       "      <td>1.277920</td>\n",
       "      <td>0.038991</td>\n",
       "      <td>1.448607</td>\n",
       "      <td>0.454571</td>\n",
       "    </tr>\n",
       "    <tr>\n",
       "      <th>2018-12-27</th>\n",
       "      <td>-0.568760</td>\n",
       "      <td>1.597978</td>\n",
       "      <td>1.454101</td>\n",
       "      <td>-0.347662</td>\n",
       "    </tr>\n",
       "  </tbody>\n",
       "</table>\n",
       "</div>"
      ],
      "text/plain": [
       "                   A         B         C         D\n",
       "2019-01-04  0.957897 -0.835610 -0.912515 -1.813901\n",
       "2018-12-28  0.357688  0.217543 -0.586735 -1.405633\n",
       "2019-01-05  0.831555 -0.010168 -0.204144 -0.187566\n",
       "2019-01-03  0.600307  0.225677 -0.083836 -0.112268\n",
       "2019-01-01 -0.665130  0.739385  0.183530 -0.600182\n",
       "2018-12-30  0.303524  0.485560  0.406158 -0.199256\n",
       "2019-01-02 -1.199389  0.175204  0.643070 -0.037645\n",
       "2018-12-31 -0.214413  0.898735  0.681016  0.084672\n",
       "2018-12-29  1.277920  0.038991  1.448607  0.454571\n",
       "2018-12-27 -0.568760  1.597978  1.454101 -0.347662"
      ]
     },
     "execution_count": 32,
     "metadata": {},
     "output_type": "execute_result"
    }
   ],
   "source": [
    "df.sort_values(by=['C'])"
   ]
  },
  {
   "cell_type": "code",
   "execution_count": null,
   "metadata": {
    "collapsed": true
   },
   "outputs": [],
   "source": []
  }
 ],
 "metadata": {
  "kernelspec": {
   "display_name": "Python 3",
   "language": "python",
   "name": "python3"
  },
  "language_info": {
   "codemirror_mode": {
    "name": "ipython",
    "version": 3
   },
   "file_extension": ".py",
   "mimetype": "text/x-python",
   "name": "python",
   "nbconvert_exporter": "python",
   "pygments_lexer": "ipython3",
   "version": "3.6.7"
  }
 },
 "nbformat": 4,
 "nbformat_minor": 2
}
