{
 "cells": [
  {
   "cell_type": "code",
   "execution_count": 8,
   "metadata": {},
   "outputs": [
    {
     "data": {
      "text/plain": [
       "(2, 100)"
      ]
     },
     "execution_count": 8,
     "metadata": {},
     "output_type": "execute_result"
    }
   ],
   "source": [
    "import tensorflow as tf\n",
    "import numpy as np\n",
    "\n",
    "#Make 100 phony data points in Numpy\n",
    "x_data = np.float32(np.random.rand(2, 100)) #Random input\n",
    "y_data = np.dot([0.100, 0.200], x_data) + 0.300 #.dot production of (1,2) *(2,100) -> (1, 100)\n",
    "\n",
    "x_data.shape"
   ]
  },
  {
   "cell_type": "code",
   "execution_count": 9,
   "metadata": {},
   "outputs": [
    {
     "data": {
      "text/plain": [
       "(100,)"
      ]
     },
     "execution_count": 9,
     "metadata": {},
     "output_type": "execute_result"
    }
   ],
   "source": [
    "y_data.shape"
   ]
  },
  {
   "cell_type": "code",
   "execution_count": 12,
   "metadata": {},
   "outputs": [
    {
     "name": "stdout",
     "output_type": "stream",
     "text": [
      "<tf.Variable 'Variable_12:0' shape=(1,) dtype=float32_ref>\n"
     ]
    },
    {
     "data": {
      "text/plain": [
       "<tf.Variable 'Variable_12:0' shape=(1,) dtype=float32_ref>"
      ]
     },
     "execution_count": 12,
     "metadata": {},
     "output_type": "execute_result"
    }
   ],
   "source": [
    "#Construct a linear model\n",
    "b = tf.Variable(tf.zeros([1]))\n",
    "print(b)\n",
    "#HOW TO SEE b's value?"
   ]
  },
  {
   "cell_type": "code",
   "execution_count": 14,
   "metadata": {},
   "outputs": [
    {
     "name": "stdout",
     "output_type": "stream",
     "text": [
      "<tf.Variable 'Variable_14:0' shape=(1, 2) dtype=float32_ref>\n",
      "Tensor(\"add_6:0\", shape=(1, 100), dtype=float32)\n",
      "0 [[ 0.78709334 -0.19879703]] [0.340572]\n",
      "20 [[0.1983845  0.12657042]] [0.28833807]\n",
      "40 [[0.11543699 0.18828785]] [0.29827428]\n",
      "60 [[0.10241111 0.19811447]] [0.29976118]\n",
      "80 [[0.10037333 0.19969139]] [0.29997215]\n",
      "100 [[0.10005683 0.19994806]] [0.2999985]\n",
      "120 [[0.10000837 0.19999084]] [0.30000058]\n",
      "140 [[0.10000115 0.19999829]] [0.30000034]\n",
      "160 [[0.10000013 0.19999966]] [0.30000013]\n",
      "180 [[0.09999998 0.1999999 ]] [0.30000007]\n",
      "200 [[0.09999998 0.1999999 ]] [0.30000007]\n"
     ]
    }
   ],
   "source": [
    "\n",
    "W = tf.Variable(tf.random_uniform([1,2], -1.0, 1.0)) #uniform??\n",
    "print(W)\n",
    "y = tf.matmul(W, x_data) + b #matmul??\n",
    "print(y)\n",
    "#Minimize the squared errors\n",
    "loss = tf.reduce_mean(tf.square( y - y_data)) #reduce_name??\n",
    "optimizer = tf.train.GradientDescentOptimizer(0.5)\n",
    "train = optimizer.minimize(loss)\n",
    "\n",
    "#For initializing the variables\n",
    "init = tf.global_variables_initializer() #old version: initialize_all_variables()\n",
    "\n",
    "#Launch the graph\n",
    "sess = tf.Session()\n",
    "sess.run(init)\n",
    "\n",
    "#Fit the plane\n",
    "for step in range(0, 201):\n",
    "    sess.run(train)\n",
    "    if step % 20 ==0:\n",
    "        print(step, sess.run(W), sess.run(b))"
   ]
  },
  {
   "cell_type": "code",
   "execution_count": null,
   "metadata": {
    "collapsed": true
   },
   "outputs": [],
   "source": []
  }
 ],
 "metadata": {
  "kernelspec": {
   "display_name": "Python 3",
   "language": "python",
   "name": "python3"
  },
  "language_info": {
   "codemirror_mode": {
    "name": "ipython",
    "version": 3
   },
   "file_extension": ".py",
   "mimetype": "text/x-python",
   "name": "python",
   "nbconvert_exporter": "python",
   "pygments_lexer": "ipython3",
   "version": "3.6.7"
  }
 },
 "nbformat": 4,
 "nbformat_minor": 2
}
