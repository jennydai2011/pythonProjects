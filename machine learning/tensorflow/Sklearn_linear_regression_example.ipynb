{
 "cells": [
  {
   "cell_type": "code",
   "execution_count": 17,
   "metadata": {},
   "outputs": [],
   "source": [
    "import numpy as np\n",
    "import pandas as pd\n",
    "\n",
    "from sklearn.linear_model import LinearRegression\n",
    "\n"
   ]
  },
  {
   "cell_type": "markdown",
   "metadata": {},
   "source": [
    "## difference between randn and rand?\n",
    "\n",
    "https://stackoverflow.com/questions/47240308/differences-between-numpy-random-rand-vs-numpy-random-randn-in-python\n",
    "\n",
    "numpy.random.randn generates samples from the normal distribution, \n",
    "while numpy.random.rand from unifrom (in range [0,1))\n",
    "\n",
    "1) Normal distribution. Where mean is 0 and var = sqrt(2. / (in + out)), where in - is the number of inputs to the neurons and out - number of outputs.\n",
    "\n",
    "2)Unifrom distribution in range [-sqrt(6. / (in + out)), +sqrt(6. / (in + out))]"
   ]
  },
  {
   "cell_type": "code",
   "execution_count": 30,
   "metadata": {},
   "outputs": [
    {
     "data": {
      "text/plain": [
       "array([[-0.26431415],\n",
       "       [ 0.09585938],\n",
       "       [ 0.93711356],\n",
       "       [ 0.62632342],\n",
       "       [-1.29945636],\n",
       "       [-0.11512312],\n",
       "       [ 2.47254688],\n",
       "       [ 0.5266342 ],\n",
       "       [ 1.25029114],\n",
       "       [-0.69758158],\n",
       "       [ 0.4483107 ],\n",
       "       [-1.54703525],\n",
       "       [ 0.01897964],\n",
       "       [ 0.44057441],\n",
       "       [ 1.42529021],\n",
       "       [ 0.35445399],\n",
       "       [-1.14244895],\n",
       "       [-0.930109  ],\n",
       "       [ 0.49848767],\n",
       "       [ 1.32460995],\n",
       "       [ 0.25006765],\n",
       "       [ 0.69879074],\n",
       "       [ 0.30904499],\n",
       "       [ 0.17486817],\n",
       "       [ 1.96888847],\n",
       "       [-0.68501634],\n",
       "       [ 0.14348102],\n",
       "       [ 0.09854005],\n",
       "       [-1.57288871],\n",
       "       [ 2.03610948],\n",
       "       [ 1.17882496],\n",
       "       [-1.58705352],\n",
       "       [-0.67791057],\n",
       "       [ 1.54257627],\n",
       "       [ 0.80392969],\n",
       "       [-0.34958893],\n",
       "       [ 0.256224  ],\n",
       "       [ 1.20628379],\n",
       "       [-2.20645444],\n",
       "       [ 0.452114  ],\n",
       "       [ 1.00037883],\n",
       "       [-1.12399284],\n",
       "       [ 0.08778235],\n",
       "       [-2.13251959],\n",
       "       [-0.73273754],\n",
       "       [ 0.26841882],\n",
       "       [ 0.41753998],\n",
       "       [ 0.22135415],\n",
       "       [-1.34706855],\n",
       "       [ 1.04561918],\n",
       "       [ 0.06647765],\n",
       "       [-1.39247817],\n",
       "       [ 0.53747404],\n",
       "       [-0.19620451],\n",
       "       [ 1.07991127],\n",
       "       [ 0.28758551],\n",
       "       [-0.45568691],\n",
       "       [-1.34615838],\n",
       "       [ 1.19160614],\n",
       "       [ 0.07692273],\n",
       "       [ 0.20213181],\n",
       "       [ 0.18869878],\n",
       "       [ 0.78800729],\n",
       "       [-0.43313641],\n",
       "       [ 0.08905535],\n",
       "       [ 0.49010007],\n",
       "       [ 0.69803284],\n",
       "       [ 0.62787757],\n",
       "       [ 0.82135029],\n",
       "       [-0.03601922],\n",
       "       [ 0.52941399],\n",
       "       [ 0.38308633],\n",
       "       [-0.36222267],\n",
       "       [ 1.08318466],\n",
       "       [ 0.7648276 ],\n",
       "       [ 1.12359936],\n",
       "       [-1.29627116],\n",
       "       [-0.11911892],\n",
       "       [-0.90195341],\n",
       "       [ 0.5720036 ],\n",
       "       [-0.90814918],\n",
       "       [-2.74901364],\n",
       "       [ 0.97153963],\n",
       "       [-0.35749497],\n",
       "       [ 0.23152085],\n",
       "       [ 0.84467045],\n",
       "       [ 0.8363218 ],\n",
       "       [ 0.17285977],\n",
       "       [-1.00490709],\n",
       "       [-1.39816363],\n",
       "       [ 1.34811318],\n",
       "       [-1.200775  ],\n",
       "       [ 0.33077394],\n",
       "       [-1.63314045],\n",
       "       [ 0.07282069],\n",
       "       [ 0.05707384],\n",
       "       [-0.00404069],\n",
       "       [-0.25530028],\n",
       "       [ 0.44499401],\n",
       "       [ 0.4427851 ]])"
      ]
     },
     "execution_count": 30,
     "metadata": {},
     "output_type": "execute_result"
    }
   ],
   "source": [
    "x = np.random.randn(100,1) \n",
    "x"
   ]
  },
  {
   "cell_type": "code",
   "execution_count": 32,
   "metadata": {},
   "outputs": [
    {
     "data": {
      "text/plain": [
       "array([[ 2.63412029e+00],\n",
       "       [ 3.17337060e+00],\n",
       "       [ 4.90506495e+00],\n",
       "       [ 4.20765480e+00],\n",
       "       [ 5.21575020e-01],\n",
       "       [ 2.58876900e+00],\n",
       "       [ 7.81836975e+00],\n",
       "       [ 4.03022428e+00],\n",
       "       [ 5.54241566e+00],\n",
       "       [ 1.61476190e+00],\n",
       "       [ 3.87975755e+00],\n",
       "       [-6.35096649e-02],\n",
       "       [ 3.02430276e+00],\n",
       "       [ 3.92032722e+00],\n",
       "       [ 5.78531660e+00],\n",
       "       [ 3.89328354e+00],\n",
       "       [ 8.29149244e-01],\n",
       "       [ 1.20176945e+00],\n",
       "       [ 4.09489938e+00],\n",
       "       [ 5.42788288e+00],\n",
       "       [ 3.53090685e+00],\n",
       "       [ 4.37562482e+00],\n",
       "       [ 3.57026542e+00],\n",
       "       [ 3.36662427e+00],\n",
       "       [ 6.81328798e+00],\n",
       "       [ 1.57599577e+00],\n",
       "       [ 3.38950216e+00],\n",
       "       [ 3.21381653e+00],\n",
       "       [-2.39915646e-01],\n",
       "       [ 7.14371461e+00],\n",
       "       [ 5.18240983e+00],\n",
       "       [-4.17691638e-03],\n",
       "       [ 1.56759117e+00],\n",
       "       [ 6.06348812e+00],\n",
       "       [ 4.56694445e+00],\n",
       "       [ 2.24610882e+00],\n",
       "       [ 3.60961268e+00],\n",
       "       [ 5.43398072e+00],\n",
       "       [-1.30261650e+00],\n",
       "       [ 3.98468976e+00],\n",
       "       [ 4.97337923e+00],\n",
       "       [ 8.03547958e-01],\n",
       "       [ 2.96792659e+00],\n",
       "       [-1.29749312e+00],\n",
       "       [ 1.54052731e+00],\n",
       "       [ 3.79047939e+00],\n",
       "       [ 3.73830934e+00],\n",
       "       [ 3.46627915e+00],\n",
       "       [ 2.73543333e-01],\n",
       "       [ 5.13041085e+00],\n",
       "       [ 3.12285589e+00],\n",
       "       [ 3.34432279e-01],\n",
       "       [ 4.21236341e+00],\n",
       "       [ 2.68115872e+00],\n",
       "       [ 5.24580767e+00],\n",
       "       [ 3.63536010e+00],\n",
       "       [ 2.26440598e+00],\n",
       "       [ 2.89879491e-01],\n",
       "       [ 5.27376368e+00],\n",
       "       [ 3.48877549e+00],\n",
       "       [ 3.32825779e+00],\n",
       "       [ 3.35807363e+00],\n",
       "       [ 4.42386469e+00],\n",
       "       [ 1.99541547e+00],\n",
       "       [ 3.20645711e+00],\n",
       "       [ 3.98207013e+00],\n",
       "       [ 4.43628408e+00],\n",
       "       [ 4.05511443e+00],\n",
       "       [ 4.55224034e+00],\n",
       "       [ 2.85178506e+00],\n",
       "       [ 4.05703877e+00],\n",
       "       [ 3.61570147e+00],\n",
       "       [ 2.36226161e+00],\n",
       "       [ 5.15463643e+00],\n",
       "       [ 4.47832696e+00],\n",
       "       [ 5.20153920e+00],\n",
       "       [ 3.67916216e-01],\n",
       "       [ 2.63354054e+00],\n",
       "       [ 1.20093294e+00],\n",
       "       [ 4.24706683e+00],\n",
       "       [ 1.23751328e+00],\n",
       "       [-2.54231375e+00],\n",
       "       [ 4.90329498e+00],\n",
       "       [ 2.46282118e+00],\n",
       "       [ 3.44223909e+00],\n",
       "       [ 4.55354240e+00],\n",
       "       [ 4.73532633e+00],\n",
       "       [ 3.35738462e+00],\n",
       "       [ 9.96665564e-01],\n",
       "       [ 3.33504442e-01],\n",
       "       [ 5.65452605e+00],\n",
       "       [ 6.17155045e-01],\n",
       "       [ 3.56446943e+00],\n",
       "       [-3.88420002e-01],\n",
       "       [ 3.15369022e+00],\n",
       "       [ 3.28281508e+00],\n",
       "       [ 3.02408747e+00],\n",
       "       [ 2.41107613e+00],\n",
       "       [ 3.87077227e+00],\n",
       "       [ 3.93290434e+00]])"
      ]
     },
     "execution_count": 32,
     "metadata": {},
     "output_type": "execute_result"
    }
   ],
   "source": [
    "y = 2*x + 3 + 0.1*np.random.randn(100,1)\n",
    "y"
   ]
  },
  {
   "cell_type": "code",
   "execution_count": 33,
   "metadata": {},
   "outputs": [
    {
     "data": {
      "image/png": "[encoded data removed]",
      "text/plain": [
       "<Figure size 432x288 with 1 Axes>"
      ]
     },
     "metadata": {},
     "output_type": "display_data"
    }
   ],
   "source": [
    "import matplotlib.pyplot as plt\n",
    "%matplotlib inline\n",
    "plt.plot(x, y, 'bs') # first character is the color( r for red, g for green etc), 2nd charactor is the style(o, -, s, ^)\n",
    "\n",
    "#plt.plot default style is line, but if adding the 'bs', it becomes scatter\n",
    "\n",
    "plt.axis([0, 2, 0, 10]) #he axis() command in the example above takes a list of [xmin, xmax, ymin, ymax] \n",
    "plt.show()"
   ]
  },
  {
   "cell_type": "code",
   "execution_count": 34,
   "metadata": {},
   "outputs": [
    {
     "data": {
      "image/png": "[encoded data removed]",
      "text/plain": [
       "<Figure size 432x288 with 1 Axes>"
      ]
     },
     "metadata": {},
     "output_type": "display_data"
    }
   ],
   "source": [
    "plt.scatter(x,y)\n",
    "plt.show()"
   ]
  },
  {
   "cell_type": "code",
   "execution_count": 35,
   "metadata": {},
   "outputs": [
    {
     "data": {
      "text/plain": [
       "LinearRegression(copy_X=True, fit_intercept=True, n_jobs=1, normalize=False)"
      ]
     },
     "execution_count": 35,
     "metadata": {},
     "output_type": "execute_result"
    }
   ],
   "source": [
    "model = LinearRegression(fit_intercept=True) #fit_intercept=True\n",
    "model.fit(x,y)"
   ]
  },
  {
   "cell_type": "code",
   "execution_count": 36,
   "metadata": {},
   "outputs": [
    {
     "data": {
      "text/plain": [
       "array([[1.97774344]])"
      ]
     },
     "execution_count": 36,
     "metadata": {},
     "output_type": "execute_result"
    }
   ],
   "source": [
    "model.coef_"
   ]
  },
  {
   "cell_type": "code",
   "execution_count": 37,
   "metadata": {},
   "outputs": [
    {
     "data": {
      "text/plain": [
       "array([3.00383792])"
      ]
     },
     "execution_count": 37,
     "metadata": {},
     "output_type": "execute_result"
    }
   ],
   "source": [
    "model.intercept_"
   ]
  },
  {
   "cell_type": "code",
   "execution_count": 39,
   "metadata": {},
   "outputs": [
    {
     "data": {
      "text/plain": [
       "array([[42.5587067]])"
      ]
     },
     "execution_count": 39,
     "metadata": {},
     "output_type": "execute_result"
    }
   ],
   "source": [
    "model.predict(20)"
   ]
  },
  {
   "cell_type": "code",
   "execution_count": 41,
   "metadata": {},
   "outputs": [
    {
     "data": {
      "image/png": "[encoded data removed]",
      "text/plain": [
       "<Figure size 432x288 with 1 Axes>"
      ]
     },
     "metadata": {},
     "output_type": "display_data"
    }
   ],
   "source": [
    "x_test = np.linspace(-3, 3)\n",
    "y_pred = model.predict(x_test[:, None])#[:, None]??\n",
    "\n",
    "plt.scatter(x,y)\n",
    "plt.plot(x_test, y_pred, 'r-')\n",
    "plt.legend(['Predicted line','Observed data' ])\n",
    "plt.show()"
   ]
  },
  {
   "cell_type": "markdown",
   "metadata": {},
   "source": [
    "# A more complicated function"
   ]
  },
  {
   "cell_type": "code",
   "execution_count": 42,
   "metadata": {},
   "outputs": [
    {
     "data": {
      "image/png": "[encoded data removed]",
      "text/plain": [
       "<Figure size 432x288 with 1 Axes>"
      ]
     },
     "metadata": {},
     "output_type": "display_data"
    }
   ],
   "source": [
    "x = np.linspace(-5, 5, num=100)[:, None] #[:, None]??\n",
    "y = -0.5 + 2.2*x + 0.3*x**3 + 2*np.random.randn(100,1)\n",
    "\n",
    "plt.plot(x, y)\n",
    "plt.show()"
   ]
  },
  {
   "cell_type": "code",
   "execution_count": 44,
   "metadata": {},
   "outputs": [
    {
     "data": {
      "text/plain": [
       "(100, 4)"
      ]
     },
     "execution_count": 44,
     "metadata": {},
     "output_type": "execute_result"
    }
   ],
   "source": [
    "x_new = np.hstack([x, x**2, x**3, x**4])\n",
    "x_new.shape"
   ]
  },
  {
   "cell_type": "code",
   "execution_count": 45,
   "metadata": {},
   "outputs": [
    {
     "data": {
      "text/plain": [
       "LinearRegression(copy_X=True, fit_intercept=True, n_jobs=1, normalize=False)"
      ]
     },
     "execution_count": 45,
     "metadata": {},
     "output_type": "execute_result"
    }
   ],
   "source": [
    "model = LinearRegression()\n",
    "model.fit(x_new, y)"
   ]
  },
  {
   "cell_type": "code",
   "execution_count": 46,
   "metadata": {},
   "outputs": [
    {
     "data": {
      "text/plain": [
       "array([[ 2.2127234 , -0.13297831,  0.29886042,  0.00476887]])"
      ]
     },
     "execution_count": 46,
     "metadata": {},
     "output_type": "execute_result"
    }
   ],
   "source": [
    "model.coef_"
   ]
  },
  {
   "cell_type": "code",
   "execution_count": 47,
   "metadata": {},
   "outputs": [
    {
     "data": {
      "text/plain": [
       "array([0.15440142])"
      ]
     },
     "execution_count": 47,
     "metadata": {},
     "output_type": "execute_result"
    }
   ],
   "source": [
    "model.intercept_"
   ]
  },
  {
   "cell_type": "code",
   "execution_count": 48,
   "metadata": {
    "collapsed": true
   },
   "outputs": [],
   "source": [
    "y_pred = model.predict(x_new)"
   ]
  },
  {
   "cell_type": "code",
   "execution_count": 50,
   "metadata": {},
   "outputs": [
    {
     "data": {
      "image/png": "[encoded data removed]",
      "text/plain": [
       "<Figure size 432x288 with 1 Axes>"
      ]
     },
     "metadata": {},
     "output_type": "display_data"
    }
   ],
   "source": [
    "plt.scatter(x, y)\n",
    "plt.plot(x_new[:, 0], y_pred, 'r')\n",
    "plt.legend(['Predicted line', 'Observed data'])\n",
    "plt.show()"
   ]
  },
  {
   "cell_type": "code",
   "execution_count": 52,
   "metadata": {},
   "outputs": [
    {
     "data": {
      "text/plain": [
       "array([[  -5.        ,   25.        , -125.        ,  625.        ],\n",
       "       [  -4.8989899 ,   24.00010203, -117.57625742,  576.00489747]])"
      ]
     },
     "execution_count": 52,
     "metadata": {},
     "output_type": "execute_result"
    }
   ],
   "source": [
    "from sklearn.preprocessing import PolynomialFeatures\n",
    "poly = PolynomialFeatures(degree=4, include_bias=False)\n",
    "x_new2 = poly.fit_transform(x)\n",
    "x_new2[:2]"
   ]
  },
  {
   "cell_type": "code",
   "execution_count": null,
   "metadata": {
    "collapsed": true
   },
   "outputs": [],
   "source": []
  }
 ],
 "metadata": {
  "kernelspec": {
   "display_name": "Python 3",
   "language": "python",
   "name": "python3"
  },
  "language_info": {
   "codemirror_mode": {
    "name": "ipython",
    "version": 3
   },
   "file_extension": ".py",
   "mimetype": "text/x-python",
   "name": "python",
   "nbconvert_exporter": "python",
   "pygments_lexer": "ipython3",
   "version": "3.6.7"
  }
 },
 "nbformat": 4,
 "nbformat_minor": 2
}
