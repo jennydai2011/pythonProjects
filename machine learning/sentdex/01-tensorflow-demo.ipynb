{
 "cells": [
  {
   "cell_type": "code",
   "execution_count": 1,
   "metadata": {},
   "outputs": [
    {
     "name": "stderr",
     "output_type": "stream",
     "text": [
      "/Users/Shared/devTools/anaconda3/lib/python3.6/site-packages/h5py/__init__.py:36: FutureWarning: Conversion of the second argument of issubdtype from `float` to `np.floating` is deprecated. In future, it will be treated as `np.float64 == np.dtype(float).type`.\n",
      "  from ._conv import register_converters as _register_converters\n"
     ]
    },
    {
     "name": "stdout",
     "output_type": "stream",
     "text": [
      "Epoch 1/3\n",
      "60000/60000 [==============================] - 18s 305us/step - loss: 0.2601 - acc: 0.9243\n",
      "Epoch 2/3\n",
      "60000/60000 [==============================] - 16s 259us/step - loss: 0.1067 - acc: 0.9675\n",
      "Epoch 3/3\n",
      "60000/60000 [==============================] - 16s 273us/step - loss: 0.0711 - acc: 0.9775\n"
     ]
    },
    {
     "data": {
      "text/plain": [
       "<tensorflow.python.keras.callbacks.History at 0x183234ad30>"
      ]
     },
     "execution_count": 1,
     "metadata": {},
     "output_type": "execute_result"
    }
   ],
   "source": [
    "import tensorflow as tf\n",
    "\n",
    "#tf.__version__\n",
    "mnist = tf.keras.datasets.mnist # 28x28\n",
    "\n",
    "(x_train, y_train), (x_test, y_test) = mnist.load_data()\n",
    "\n",
    "x_train = tf.keras.utils.normalize(x_train, axis=1)\n",
    "x_test= tf.keras.utils.normalize(x_test, axis=1)\n",
    "\n",
    "model = tf.keras.models.Sequential()\n",
    "model.add(tf.keras.layers.Flatten(input_shape=x_train[0].shape))\n",
    "model.add(tf.keras.layers.Dense(128, activation=tf.nn.relu))\n",
    "model.add(tf.keras.layers.Dense(128, activation=tf.nn.relu))\n",
    "model.add(tf.keras.layers.Dense(10, activation=tf.nn.softmax))\n",
    "\n",
    "model.compile(optimizer='adam',\n",
    "             loss='sparse_categorical_crossentropy',\n",
    "             metrics=['accuracy'])\n",
    "model.fit(x_train, y_train, epochs=3)"
   ]
  },
  {
   "cell_type": "code",
   "execution_count": 2,
   "metadata": {},
   "outputs": [
    {
     "name": "stdout",
     "output_type": "stream",
     "text": [
      "10000/10000 [==============================] - 1s 96us/step\n",
      "0.0970799470603466 0.9702\n"
     ]
    }
   ],
   "source": [
    "val_loss, val_acc = model.evaluate(x_test, y_test)\n",
    "print(val_loss, val_acc)"
   ]
  },
  {
   "cell_type": "code",
   "execution_count": 4,
   "metadata": {},
   "outputs": [
    {
     "data": {
      "image/png": "[encoded data removed]",
      "text/plain": [
       "<matplotlib.figure.Figure at 0x1856a67908>"
      ]
     },
     "metadata": {},
     "output_type": "display_data"
    },
    {
     "name": "stdout",
     "output_type": "stream",
     "text": [
      "[[0.         0.         0.         0.         0.         0.\n",
      "  0.         0.         0.         0.         0.         0.\n",
      "  0.         0.         0.         0.         0.         0.\n",
      "  0.         0.         0.         0.         0.         0.\n",
      "  0.         0.         0.         0.        ]\n",
      " [0.         0.         0.         0.         0.         0.\n",
      "  0.         0.         0.         0.         0.         0.\n",
      "  0.         0.         0.         0.         0.         0.\n",
      "  0.         0.         0.         0.         0.         0.\n",
      "  0.         0.         0.         0.        ]\n",
      " [0.         0.         0.         0.         0.         0.\n",
      "  0.         0.         0.         0.         0.         0.\n",
      "  0.         0.         0.         0.         0.         0.\n",
      "  0.         0.         0.         0.         0.         0.\n",
      "  0.         0.         0.         0.        ]\n",
      " [0.         0.         0.         0.         0.         0.\n",
      "  0.         0.         0.         0.         0.         0.\n",
      "  0.         0.         0.         0.         0.         0.\n",
      "  0.         0.         0.         0.         0.         0.\n",
      "  0.         0.         0.         0.        ]\n",
      " [0.         0.         0.         0.         0.         0.\n",
      "  0.         0.         0.         0.         0.         0.\n",
      "  0.         0.         0.         0.         0.         0.\n",
      "  0.         0.         0.         0.         0.         0.\n",
      "  0.         0.         0.         0.        ]\n",
      " [0.         0.         0.         0.         0.         0.\n",
      "  0.         0.         0.         0.         0.         0.\n",
      "  0.         0.         0.         0.01941852 0.04023069 0.1562113\n",
      "  0.14359004 0.00921171 0.         0.         0.         0.\n",
      "  0.         0.         0.         0.        ]\n",
      " [0.         0.         0.         0.         0.         0.\n",
      "  0.         0.         0.         0.         0.         0.\n",
      "  0.         0.04850047 0.23127813 0.31069633 0.40552536 0.39365246\n",
      "  0.29659582 0.19213005 0.         0.         0.         0.\n",
      "  0.         0.         0.         0.        ]\n",
      " [0.         0.         0.         0.         0.         0.\n",
      "  0.         0.         0.         0.         0.         0.06513354\n",
      "  0.23434254 0.35860954 0.38597409 0.37791429 0.36046699 0.32960583\n",
      "  0.29659582 0.30530254 0.1167979  0.         0.         0.\n",
      "  0.         0.         0.         0.        ]\n",
      " [0.         0.         0.         0.         0.         0.\n",
      "  0.         0.         0.         0.02761485 0.23598644 0.38917288\n",
      "  0.38851527 0.37036723 0.38597409 0.32264619 0.04988606 0.05779818\n",
      "  0.29659582 0.33162172 0.17519686 0.         0.         0.\n",
      "  0.         0.         0.         0.        ]\n",
      " [0.         0.         0.         0.         0.         0.\n",
      "  0.         0.         0.         0.17673505 0.39124068 0.41034128\n",
      "  0.38851527 0.37036723 0.33236658 0.04331824 0.         0.05779818\n",
      "  0.29659582 0.33162172 0.17519686 0.         0.         0.\n",
      "  0.         0.         0.         0.        ]\n",
      " [0.         0.         0.         0.         0.         0.\n",
      "  0.         0.         0.         0.33321921 0.39124068 0.41034128\n",
      "  0.33918    0.24544178 0.0459493  0.         0.         0.1202827\n",
      "  0.29659582 0.33162172 0.17519686 0.         0.         0.\n",
      "  0.         0.         0.         0.        ]\n",
      " [0.         0.         0.         0.         0.         0.\n",
      "  0.         0.         0.         0.04786574 0.19872542 0.09444363\n",
      "  0.033918   0.         0.         0.         0.         0.1562113\n",
      "  0.29659582 0.33162172 0.17519686 0.         0.         0.\n",
      "  0.         0.         0.         0.        ]\n",
      " [0.         0.         0.         0.         0.         0.\n",
      "  0.         0.         0.         0.         0.         0.\n",
      "  0.         0.         0.         0.         0.         0.24525173\n",
      "  0.29659582 0.33162172 0.17519686 0.         0.         0.\n",
      "  0.         0.         0.         0.        ]\n",
      " [0.         0.         0.         0.         0.         0.\n",
      "  0.         0.         0.         0.         0.         0.\n",
      "  0.         0.16166824 0.18532883 0.18223535 0.19471654 0.31554682\n",
      "  0.29659582 0.25529609 0.00875984 0.         0.         0.\n",
      "  0.         0.         0.         0.        ]\n",
      " [0.         0.         0.         0.         0.         0.\n",
      "  0.         0.         0.         0.         0.01552542 0.08630194\n",
      "  0.27596918 0.37183695 0.38750574 0.38090176 0.40713459 0.39521458\n",
      "  0.2683486  0.04605857 0.         0.         0.         0.\n",
      "  0.         0.         0.         0.        ]\n",
      " [0.         0.         0.         0.         0.         0.\n",
      "  0.         0.         0.00988969 0.09941347 0.35242712 0.41034128\n",
      "  0.37463972 0.33509416 0.26037935 0.36148324 0.40552536 0.39365246\n",
      "  0.2718795  0.15396723 0.01751969 0.         0.         0.\n",
      "  0.         0.         0.         0.        ]\n",
      " [0.         0.         0.         0.         0.         0.\n",
      "  0.         0.01125272 0.1542792  0.46392951 0.39124068 0.2035423\n",
      "  0.09096191 0.         0.02756958 0.31069633 0.40552536 0.39365246\n",
      "  0.29659582 0.33162172 0.25403544 0.02214624 0.         0.\n",
      "  0.         0.         0.         0.        ]\n",
      " [0.         0.         0.         0.         0.         0.\n",
      "  0.01071664 0.25318618 0.4984405  0.46392951 0.27945763 0.02605341\n",
      "  0.         0.03086394 0.31092358 0.37791429 0.39747923 0.20151257\n",
      "  0.20361539 0.33162172 0.7358268  0.58212984 0.20843953 0.15628175\n",
      "  0.21184745 0.         0.         0.        ]\n",
      " [0.         0.         0.         0.         0.         0.00915362\n",
      "  0.29149268 0.4726142  0.47668317 0.19514495 0.02639322 0.\n",
      "  0.08171154 0.29394225 0.38597409 0.32264619 0.1045998  0.\n",
      "  0.01647755 0.09474906 0.47595146 0.76246354 0.79586002 0.80373473\n",
      "  0.96412208 0.         0.         0.        ]\n",
      " [0.         0.         0.         0.         0.         0.32037666\n",
      "  0.54011878 0.45385967 0.17405859 0.03313782 0.11333559 0.27681753\n",
      "  0.37618145 0.37036723 0.19298705 0.04331824 0.         0.\n",
      "  0.         0.         0.         0.28157367 0.56847145 0.57409624\n",
      "  0.15996644 0.         0.         0.        ]\n",
      " [0.         0.         0.         0.         0.         0.70482866\n",
      "  0.54011878 0.45948603 0.40547739 0.39765386 0.39124068 0.41034128\n",
      "  0.38851527 0.18224419 0.00459493 0.         0.         0.\n",
      "  0.         0.         0.         0.         0.         0.\n",
      "  0.         0.         0.         0.        ]\n",
      " [0.         0.         0.         0.         0.         0.63159971\n",
      "  0.54011878 0.4726142  0.4984405  0.46392951 0.27635254 0.18888726\n",
      "  0.05550218 0.00587884 0.         0.         0.         0.\n",
      "  0.         0.         0.         0.         0.         0.\n",
      "  0.         0.         0.         0.        ]\n",
      " [0.         0.         0.         0.         0.         0.03966568\n",
      "  0.19932955 0.2681898  0.23933056 0.04234277 0.00931525 0.\n",
      "  0.         0.         0.         0.         0.         0.\n",
      "  0.         0.         0.         0.         0.         0.\n",
      "  0.         0.         0.         0.        ]\n",
      " [0.         0.         0.         0.         0.         0.\n",
      "  0.         0.         0.         0.         0.         0.\n",
      "  0.         0.         0.         0.         0.         0.\n",
      "  0.         0.         0.         0.         0.         0.\n",
      "  0.         0.         0.         0.        ]\n",
      " [0.         0.         0.         0.         0.         0.\n",
      "  0.         0.         0.         0.         0.         0.\n",
      "  0.         0.         0.         0.         0.         0.\n",
      "  0.         0.         0.         0.         0.         0.\n",
      "  0.         0.         0.         0.        ]\n",
      " [0.         0.         0.         0.         0.         0.\n",
      "  0.         0.         0.         0.         0.         0.\n",
      "  0.         0.         0.         0.         0.         0.\n",
      "  0.         0.         0.         0.         0.         0.\n",
      "  0.         0.         0.         0.        ]\n",
      " [0.         0.         0.         0.         0.         0.\n",
      "  0.         0.         0.         0.         0.         0.\n",
      "  0.         0.         0.         0.         0.         0.\n",
      "  0.         0.         0.         0.         0.         0.\n",
      "  0.         0.         0.         0.        ]\n",
      " [0.         0.         0.         0.         0.         0.\n",
      "  0.         0.         0.         0.         0.         0.\n",
      "  0.         0.         0.         0.         0.         0.\n",
      "  0.         0.         0.         0.         0.         0.\n",
      "  0.         0.         0.         0.        ]]\n"
     ]
    }
   ],
   "source": [
    "import matplotlib.pyplot as plt\n",
    "\n",
    "plt.imshow(x_train[5], cmap =  plt.cm.binary)\n",
    "plt.show()\n",
    "print(x_train[5])"
   ]
  },
  {
   "cell_type": "code",
   "execution_count": 5,
   "metadata": {
    "collapsed": true
   },
   "outputs": [],
   "source": [
    "model.save('epic_num_reader.model')"
   ]
  },
  {
   "cell_type": "code",
   "execution_count": 6,
   "metadata": {
    "collapsed": true
   },
   "outputs": [],
   "source": [
    "new_model = tf.keras.models.load_model('epic_num_reader.model')"
   ]
  },
  {
   "cell_type": "code",
   "execution_count": 7,
   "metadata": {
    "collapsed": true
   },
   "outputs": [],
   "source": [
    "predictions = new_model.predict([x_test])"
   ]
  },
  {
   "cell_type": "code",
   "execution_count": 8,
   "metadata": {},
   "outputs": [
    {
     "name": "stdout",
     "output_type": "stream",
     "text": [
      "[[9.12308273e-09 1.13430424e-07 2.35946245e-05 ... 9.99935865e-01\n",
      "  1.92152314e-07 5.22697349e-07]\n",
      " [6.95123887e-08 3.48635903e-03 9.96425450e-01 ... 3.70519038e-09\n",
      "  1.02909394e-06 2.30091987e-10]\n",
      " [4.72474397e-08 9.99682546e-01 3.18505809e-05 ... 3.17548620e-05\n",
      "  2.35375148e-04 6.60381147e-07]\n",
      " ...\n",
      " [4.01446044e-07 2.18679133e-07 1.06643107e-07 ... 3.54676195e-05\n",
      "  2.02011597e-06 2.32091697e-04]\n",
      " [1.30864019e-05 5.39162193e-06 5.52941458e-07 ... 9.90875105e-06\n",
      "  2.52838526e-03 6.38787085e-08]\n",
      " [1.28545457e-06 2.34804773e-07 2.24933920e-05 ... 1.62384364e-08\n",
      "  8.03364765e-06 2.18115332e-07]]\n"
     ]
    }
   ],
   "source": [
    "print(predictions)"
   ]
  },
  {
   "cell_type": "code",
   "execution_count": 11,
   "metadata": {},
   "outputs": [
    {
     "name": "stdout",
     "output_type": "stream",
     "text": [
      "9\n"
     ]
    }
   ],
   "source": [
    "import numpy as np\n",
    "\n",
    "print(np.argmax(predictions[10]))"
   ]
  },
  {
   "cell_type": "code",
   "execution_count": 12,
   "metadata": {},
   "outputs": [
    {
     "data": {
      "image/png": "[encoded data removed]",
      "text/plain": [
       "<matplotlib.figure.Figure at 0x184907ec50>"
      ]
     },
     "metadata": {},
     "output_type": "display_data"
    }
   ],
   "source": [
    "plt.imshow(x_test[7])\n",
    "plt.show()"
   ]
  },
  {
   "cell_type": "code",
   "execution_count": null,
   "metadata": {
    "collapsed": true
   },
   "outputs": [],
   "source": []
  }
 ],
 "metadata": {
  "kernelspec": {
   "display_name": "Python 3",
   "language": "python",
   "name": "python3"
  },
  "language_info": {
   "codemirror_mode": {
    "name": "ipython",
    "version": 3
   },
   "file_extension": ".py",
   "mimetype": "text/x-python",
   "name": "python",
   "nbconvert_exporter": "python",
   "pygments_lexer": "ipython3",
   "version": "3.6.3"
  }
 },
 "nbformat": 4,
 "nbformat_minor": 2
}
