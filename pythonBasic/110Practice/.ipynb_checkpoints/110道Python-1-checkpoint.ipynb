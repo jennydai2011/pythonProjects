{
 "cells": [
  {
   "cell_type": "markdown",
   "metadata": {},
   "source": [
    "1、一行代码实现1—100之和"
   ]
  },
  {
   "cell_type": "code",
   "execution_count": 2,
   "metadata": {},
   "outputs": [
    {
     "data": {
      "text/plain": [
       "4950"
      ]
     },
     "execution_count": 2,
     "metadata": {},
     "output_type": "execute_result"
    }
   ],
   "source": [
    "#solution 1- sum\n",
    "total = sum(range(1,100))\n",
    "total"
   ]
  },
  {
   "cell_type": "code",
   "execution_count": 6,
   "metadata": {},
   "outputs": [
    {
     "data": {
      "text/plain": [
       "4950"
      ]
     },
     "execution_count": 6,
     "metadata": {},
     "output_type": "execute_result"
    }
   ],
   "source": [
    "#solution 2- reduce\n",
    "from functools import reduce\n",
    "total2 = reduce((lambda x, y: x+y), range(1,100))\n",
    "total2"
   ]
  },
  {
   "cell_type": "markdown",
   "metadata": {
    "collapsed": true
   },
   "source": [
    "2. 如何在一个函数内部修改全局变量"
   ]
  },
  {
   "cell_type": "code",
   "execution_count": 1,
   "metadata": {},
   "outputs": [
    {
     "name": "stdout",
     "output_type": "stream",
     "text": [
      "4\n"
     ]
    }
   ],
   "source": [
    "a = 5\n",
    "def fn():\n",
    "    global a\n",
    "    a =4\n",
    "fn()\n",
    "print(a)"
   ]
  },
  {
   "cell_type": "markdown",
   "metadata": {},
   "source": [
    "3. 列出5个Python标准库"
   ]
  },
  {
   "cell_type": "markdown",
   "metadata": {},
   "source": [
    "https://docs.python.org/zh-cn/3/library/index.html\n",
    "\n",
    "os: 操作系统相关的函数\n",
    "sys：通常用于命令行参数\n",
    "re：正则匹配\n",
    "math：数学运算\n",
    "datetime: 处理日期时间"
   ]
  },
  {
   "cell_type": "markdown",
   "metadata": {},
   "source": [
    "4. 字典如何删除键， 和合并两个字典"
   ]
  },
  {
   "cell_type": "code",
   "execution_count": 5,
   "metadata": {},
   "outputs": [
    {
     "data": {
      "text/plain": [
       "{'age': 18}"
      ]
     },
     "execution_count": 5,
     "metadata": {},
     "output_type": "execute_result"
    }
   ],
   "source": [
    "dic1 = {\"name\":\"zs\", \"age\":18}\n",
    "#del key\n",
    "del dic1[\"name\"]\n",
    "dic1"
   ]
  },
  {
   "cell_type": "code",
   "execution_count": 6,
   "metadata": {},
   "outputs": [
    {
     "data": {
      "text/plain": [
       "{'age': 18, 'name': '2s'}"
      ]
     },
     "execution_count": 6,
     "metadata": {},
     "output_type": "execute_result"
    }
   ],
   "source": [
    "dic2 = {\"name\":\"2s\"}\n",
    "dic1.update(dic2)\n",
    "dic1"
   ]
  },
  {
   "cell_type": "markdown",
   "metadata": {},
   "source": [
    "5. 谈下python的GIL"
   ]
  },
  {
   "cell_type": "markdown",
   "metadata": {},
   "source": [
    "GIL 是python的全局解释锁，同一个进程中假如有多个线程运行，一个线程在运行python程序的时候会霸占python解释器（加了一把锁即GIL）， 使该进程内的其他线程无法运行，等该线程运行完后其他线程才能运行。如果线程运行过程中遇到耗时操作，则解释器锁解开，使其他线程运行。所以在多线程中， 线程的运行仍然是有先后顺序的，并不是同事进行。\n",
    "多进程中因为每个进程都能被系统分配资源，相当于每个进程有了一个Python解释器，所以多进程可以实现多个进程的同时运行，缺点是进程系统资源开销大"
   ]
  },
  {
   "cell_type": "markdown",
   "metadata": {},
   "source": [
    "6. ptyhon实现列表去重的方法"
   ]
  },
  {
   "cell_type": "code",
   "execution_count": 7,
   "metadata": {},
   "outputs": [
    {
     "data": {
      "text/plain": [
       "{11, 12, 13, 15, 16}"
      ]
     },
     "execution_count": 7,
     "metadata": {},
     "output_type": "execute_result"
    }
   ],
   "source": [
    "#先把列表转成集合，去重，再转成列表\n",
    "list = [11, 12, 13, 12, 15, 16, 13]\n",
    "a=set(list)\n",
    "a"
   ]
  },
  {
   "cell_type": "code",
   "execution_count": 8,
   "metadata": {},
   "outputs": [
    {
     "data": {
      "text/plain": [
       "[11, 12, 13, 15, 16]"
      ]
     },
     "execution_count": 8,
     "metadata": {},
     "output_type": "execute_result"
    }
   ],
   "source": [
    "[x for x in a]"
   ]
  },
  {
   "cell_type": "markdown",
   "metadata": {},
   "source": [
    "7. fun(*args, **kwargs)中的*args, **kwargs什么意思？"
   ]
  },
  {
   "cell_type": "markdown",
   "metadata": {},
   "source": [
    "*arg means uncertain number of arguments\n",
    "**kwargs means uncertain number of arguments, but in keywrod/value format"
   ]
  },
  {
   "cell_type": "code",
   "execution_count": null,
   "metadata": {
    "collapsed": true
   },
   "outputs": [],
   "source": [
    "8. python2和Python3的range(100)的区别\n",
    "python2返回列表，Python3返回迭代器，节约内存"
   ]
  },
  {
   "cell_type": "markdown",
   "metadata": {},
   "source": [
    "9. 一句话解释什么样的语言能够用装饰器？\n",
    "函数可以作为参数传递的语言，可以使用装饰器"
   ]
  },
  {
   "cell_type": "markdown",
   "metadata": {},
   "source": [
    "10. python内建数据类型有哪些？\n",
    "整型 - int\n",
    "布尔型 - bool\n",
    "字符串 -str\n",
    "列表 - list\n",
    "元组 - tuple\n",
    "字典 - dict"
   ]
  },
  {
   "cell_type": "markdown",
   "metadata": {},
   "source": [
    "11. 简述面向对象中__new__和 __init__的区别\n",
    "__init__是初始化方法，在创建对象后，被立刻默认调用\n",
    "__new__会自动调用__init__"
   ]
  },
  {
   "cell_type": "markdown",
   "metadata": {},
   "source": [
    "12. 简述with方法打开文件的好处\n",
    "\n",
    "如果不用with打开\n",
    "f=open(\"1.txt\", \"wb\")\n",
    "try:\n",
    "    f.write(\"hello world\")\n",
    "except:\n",
    "    pass\n",
    "finally:\n",
    "    f.close()\n",
    "用with就可以省掉finally的部分\n",
    "with open(\"1.txt\", \"wb\") as f:\n",
    "    f.write(\"hello world\")"
   ]
  },
  {
   "cell_type": "markdown",
   "metadata": {},
   "source": [
    "13. 列表[1,2,3,4,5],请使用map()函数输出[1,4,9,16,25],并使用列表推导式提出大于0的数"
   ]
  },
  {
   "cell_type": "code",
   "execution_count": 10,
   "metadata": {},
   "outputs": [
    {
     "name": "stdout",
     "output_type": "stream",
     "text": [
      "[16, 25]\n"
     ]
    }
   ],
   "source": [
    "list = [1,2,3,4,5]\n",
    "def square(x):\n",
    "    return x**2\n",
    "\n",
    "res = map(square, list)\n",
    "res_lt_10 = [i for i in res if i > 10]\n",
    "print(res_lt_10)"
   ]
  },
  {
   "cell_type": "markdown",
   "metadata": {},
   "source": [
    "14. python中生成随机整数，随机小数， 0--1之间小数"
   ]
  },
  {
   "cell_type": "code",
   "execution_count": 12,
   "metadata": {},
   "outputs": [
    {
     "data": {
      "text/plain": [
       "30"
      ]
     },
     "execution_count": 12,
     "metadata": {},
     "output_type": "execute_result"
    }
   ],
   "source": [
    "import random\n",
    "\n",
    "# 随机整数\n",
    "x = random.randint(0,100)\n",
    "x"
   ]
  },
  {
   "cell_type": "code",
   "execution_count": 14,
   "metadata": {},
   "outputs": [
    {
     "data": {
      "text/plain": [
       "array([ 0.20995563, -0.23627485, -0.9640519 ,  1.51474194,  0.15581815])"
      ]
     },
     "execution_count": 14,
     "metadata": {},
     "output_type": "execute_result"
    }
   ],
   "source": [
    "#随机小数\n",
    "import numpy as np\n",
    "y = np.random.randn(5)\n",
    "y"
   ]
  },
  {
   "cell_type": "code",
   "execution_count": 15,
   "metadata": {},
   "outputs": [
    {
     "data": {
      "text/plain": [
       "0.8750353473780884"
      ]
     },
     "execution_count": 15,
     "metadata": {},
     "output_type": "execute_result"
    }
   ],
   "source": [
    "# 0 -1 之间的小数\n",
    "z = random.random()\n",
    "z"
   ]
  },
  {
   "cell_type": "markdown",
   "metadata": {},
   "source": [
    "15. 哪个字母表示原始字符串？\n",
    "r, 表示需要原始字符串，不转义特殊字符"
   ]
  },
  {
   "cell_type": "markdown",
   "metadata": {},
   "source": [
    "16. <div class=\"name\">zhongguo</div>, 用正则表达式取出标签里面的内容"
   ]
  },
  {
   "cell_type": "code",
   "execution_count": 17,
   "metadata": {},
   "outputs": [
    {
     "name": "stdout",
     "output_type": "stream",
     "text": [
      "['zhongguo']\n"
     ]
    }
   ],
   "source": [
    "import re\n",
    "str = '<div class=\"name\">zhongguo</div>'\n",
    "result = re.findall(r'<div class=\".*\">(.*?)</div>', str)\n",
    "print(result)"
   ]
  },
  {
   "cell_type": "markdown",
   "metadata": {},
   "source": [
    "17. Python中断言\n",
    "assert()"
   ]
  },
  {
   "cell_type": "code",
   "execution_count": 18,
   "metadata": {},
   "outputs": [
    {
     "name": "stdout",
     "output_type": "stream",
     "text": [
      "continue...\n"
     ]
    },
    {
     "ename": "AssertionError",
     "evalue": "",
     "output_type": "error",
     "traceback": [
      "\u001b[0;31m---------------------------------------------------------------------------\u001b[0m",
      "\u001b[0;31mAssertionError\u001b[0m                            Traceback (most recent call last)",
      "\u001b[0;32m<ipython-input-18-cf4cdc11a32f>\u001b[0m in \u001b[0;36m<module>\u001b[0;34m()\u001b[0m\n\u001b[1;32m      4\u001b[0m \u001b[0;34m\u001b[0m\u001b[0m\n\u001b[1;32m      5\u001b[0m \u001b[0mb\u001b[0m\u001b[0;34m=\u001b[0m\u001b[0;36m4\u001b[0m\u001b[0;34m\u001b[0m\u001b[0;34m\u001b[0m\u001b[0m\n\u001b[0;32m----> 6\u001b[0;31m \u001b[0;32massert\u001b[0m\u001b[0;34m(\u001b[0m\u001b[0mb\u001b[0m\u001b[0;34m>\u001b[0m\u001b[0;36m7\u001b[0m\u001b[0;34m)\u001b[0m\u001b[0;34m\u001b[0m\u001b[0;34m\u001b[0m\u001b[0m\n\u001b[0m\u001b[1;32m      7\u001b[0m \u001b[0mprint\u001b[0m\u001b[0;34m(\u001b[0m\u001b[0;34m\"not reachable\"\u001b[0m\u001b[0;34m)\u001b[0m\u001b[0;34m\u001b[0m\u001b[0;34m\u001b[0m\u001b[0m\n",
      "\u001b[0;31mAssertionError\u001b[0m: "
     ]
    }
   ],
   "source": [
    "a = 3\n",
    "assert(a>1)\n",
    "print(\"continue...\")\n",
    "\n",
    "b=4\n",
    "assert(b>7)\n",
    "print(\"not reachable\")"
   ]
  },
  {
   "cell_type": "markdown",
   "metadata": {},
   "source": [
    "18. sql： 去重\n",
    "select distince * from table"
   ]
  },
  {
   "cell_type": "markdown",
   "metadata": {},
   "source": [
    "19. 10个常用linux 命令\n",
    "ls pwd cd touch rm mkdir tree cp mv cat more grep echo"
   ]
  },
  {
   "cell_type": "markdown",
   "metadata": {},
   "source": [
    "20. python2 和Python3 区别\n",
    "1. print()\n",
    "2.python2 range(1,10) return list, python3 return iterator,节约内存\n",
    "3. Python2 编码ascii， Python3 utf-8\n",
    "4. python2 unicode 表示字符串序列，str表示字节序列\n",
    "   python3 str表示字符串序列，byte 表示字节序列\n",
    "5.python2 要引入coding声明， python3不需要\n",
    "6.python2 raw_input(), python3 input()"
   ]
  },
  {
   "cell_type": "markdown",
   "metadata": {},
   "source": [
    "21. 列出python中可变数据类型和不可变数据类型\n",
    "不可变: string 和 tuple\n",
    "用id()查看对象内存地址\n",
    "\n",
    "可变: list, dict"
   ]
  },
  {
   "cell_type": "markdown",
   "metadata": {},
   "source": [
    "22, s = \"ajldjlajfdljfddd\"，去重并从小到大排序，输出\"adfjl\""
   ]
  },
  {
   "cell_type": "code",
   "execution_count": 21,
   "metadata": {},
   "outputs": [
    {
     "name": "stdout",
     "output_type": "stream",
     "text": [
      "adfjl\n"
     ]
    }
   ],
   "source": [
    "s = \"ajldjlajfdljfddd\"\n",
    "s = set(s)\n",
    "#l = list(s) #only work in python2\n",
    "l=[*s] #python3 way\n",
    "l.sort(reverse=False)\n",
    "\n",
    "res = \"\".join(l)\n",
    "print(res)"
   ]
  },
  {
   "cell_type": "code",
   "execution_count": null,
   "metadata": {
    "collapsed": true
   },
   "outputs": [],
   "source": []
  }
 ],
 "metadata": {
  "kernelspec": {
   "display_name": "Python 3",
   "language": "python",
   "name": "python3"
  },
  "language_info": {
   "codemirror_mode": {
    "name": "ipython",
    "version": 3
   },
   "file_extension": ".py",
   "mimetype": "text/x-python",
   "name": "python",
   "nbconvert_exporter": "python",
   "pygments_lexer": "ipython3",
   "version": "3.6.7"
  }
 },
 "nbformat": 4,
 "nbformat_minor": 2
}
