{
 "cells": [
  {
   "cell_type": "code",
   "execution_count": 3,
   "metadata": {},
   "outputs": [
    {
     "name": "stdout",
     "output_type": "stream",
     "text": [
      "Cart: \n",
      "3 x Item1 = 12\n",
      "20 x Item2 = 20\n",
      "2 x Item3 = 30\n",
      "total : 62\n"
     ]
    }
   ],
   "source": [
    "from string import Template\n",
    "\n",
    "class MyTemplate(Template):\n",
    "    delimiter = '#'\n",
    "    \n",
    "def Main():\n",
    "    cart = []\n",
    "    cart.append(dict(item=\"Item1\", price=12, qty=3))\n",
    "    cart.append(dict(item=\"Item2\", price=20, qty=20))\n",
    "    cart.append(dict(item=\"Item3\", price=30, qty=2))\n",
    "    \n",
    "    #t = Template(\"$qty x $item = $price\")\n",
    "    t = MyTemplate(\"#qty x #item = #price\")\n",
    "    total = 0\n",
    "    print(\"Cart: \")\n",
    "    for data in cart:\n",
    "        print(t.substitute(data))\n",
    "        total = total + data[\"price\"]\n",
    "    \n",
    "    print(\"total : \"+ str(total))\n",
    "\n",
    "Main()"
   ]
  }
 ],
 "metadata": {
  "kernelspec": {
   "display_name": "Python 3",
   "language": "python",
   "name": "python3"
  },
  "language_info": {
   "codemirror_mode": {
    "name": "ipython",
    "version": 3
   },
   "file_extension": ".py",
   "mimetype": "text/x-python",
   "name": "python",
   "nbconvert_exporter": "python",
   "pygments_lexer": "ipython3",
   "version": "3.6.3"
  }
 },
 "nbformat": 4,
 "nbformat_minor": 2
}
