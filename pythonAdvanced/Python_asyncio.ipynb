{
 "cells": [
  {
   "cell_type": "code",
   "execution_count": 16,
   "metadata": {},
   "outputs": [
    {
     "name": "stdout",
     "output_type": "stream",
     "text": [
      "Highest prime below 10000\n",
      "Highest prime below 1000\n",
      "Highest prime below 100000\n",
      "-> highest prime below 1000 is 997\n",
      "-> highest prime below 100000 is 99991\n",
      "-> highest prime below 10000 is 9973\n",
      "Took 417.65 ms\n"
     ]
    },
    {
     "data": {
      "text/plain": [
       "<coroutine object main at 0x10f361db0>"
      ]
     },
     "execution_count": 16,
     "metadata": {},
     "output_type": "execute_result"
    }
   ],
   "source": [
    "import time\n",
    "import asyncio\n",
    "\n",
    "def is_prime(x):\n",
    "    return not any (x//i == x/i for i in range(x-1, 1, -1))\n",
    "\n",
    "async def highest_prime_below(x):\n",
    "    \n",
    "    print(\"Highest prime below %d\" % x )\n",
    "    for y in range(x-1, 0, -1):\n",
    "        if is_prime(y):\n",
    "            print(\"-> highest prime below %d is %d\" % (x, y))\n",
    "            return y\n",
    "        await asyncio.sleep(0.01)\n",
    "        #time.sleep(0.01)\n",
    "    return None\n",
    "\n",
    "    \n",
    "async def main():\n",
    "    t0 = time.time()\n",
    "    await asyncio.wait([\n",
    "         highest_prime_below(100000),\n",
    "         highest_prime_below(10000),\n",
    "         highest_prime_below(1000)\n",
    "    ])\n",
    "    t1 = time.time()\n",
    "    print('Took %.2f ms' % (1000*(t1-t0)))\n",
    "\n",
    "loop = asyncio.get_event_loop()\n",
    "loop.run_until_complete(main())\n",
    "#loop.close()\n",
    "\n",
    "main()"
   ]
  }
 ],
 "metadata": {
  "kernelspec": {
   "display_name": "Python 3",
   "language": "python",
   "name": "python3"
  },
  "language_info": {
   "codemirror_mode": {
    "name": "ipython",
    "version": 3
   },
   "file_extension": ".py",
   "mimetype": "text/x-python",
   "name": "python",
   "nbconvert_exporter": "python",
   "pygments_lexer": "ipython3",
   "version": "3.6.3"
  }
 },
 "nbformat": 4,
 "nbformat_minor": 2
}
