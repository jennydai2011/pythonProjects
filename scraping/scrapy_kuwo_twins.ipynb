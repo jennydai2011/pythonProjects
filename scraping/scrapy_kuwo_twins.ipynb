{
 "cells": [
  {
   "cell_type": "code",
   "execution_count": 1,
   "metadata": {},
   "outputs": [
    {
     "name": "stdout",
     "output_type": "stream",
     "text": [
      "http://www.baidu.com/s?wd=%E8%8E%AB%E7%83%A6Python\n"
     ]
    },
    {
     "data": {
      "text/plain": [
       "True"
      ]
     },
     "execution_count": 1,
     "metadata": {},
     "output_type": "execute_result"
    }
   ],
   "source": [
    "# kuwo_url_playlist=\"http://www.kuwo.cn/album/2938/\"\n",
    "import requests\n",
    "import webbrowser\n",
    "param = {\"wd\": \"莫烦Python\"}  # 搜索的信息\n",
    "r = requests.get('http://www.baidu.com/s', params=param)\n",
    "print(r.url)\n",
    "webbrowser.open(r.url)"
   ]
  },
  {
   "cell_type": "code",
   "execution_count": 7,
   "metadata": {},
   "outputs": [
    {
     "name": "stdout",
     "output_type": "stream",
     "text": [
      "saved BaBaBlackSheep2\n"
     ]
    }
   ],
   "source": [
    "from bs4 import BeautifulSoup\n",
    "import requests\n",
    "\n",
    "kuwo_twins_url=\"http://www.kuwo.cn/yinyue/82716/\"\n",
    "r = requests.get(kuwo_twins_url, stream=True)\n",
    "title=\"BaBaBlackSheep2\"\n",
    "with open('/Volumes/Data/music/twins/%s' % title, 'wb') as f:\n",
    "    for chunk in r.iter_content(chunk_size=128):\n",
    "        f.write(chunk)\n",
    "print('saved %s' % title)"
   ]
  },
  {
   "cell_type": "code",
   "execution_count": null,
   "metadata": {
    "collapsed": true
   },
   "outputs": [],
   "source": []
  }
 ],
 "metadata": {
  "kernelspec": {
   "display_name": "Python 3",
   "language": "python",
   "name": "python3"
  },
  "language_info": {
   "codemirror_mode": {
    "name": "ipython",
    "version": 3
   },
   "file_extension": ".py",
   "mimetype": "text/x-python",
   "name": "python",
   "nbconvert_exporter": "python",
   "pygments_lexer": "ipython3",
   "version": "3.6.3"
  }
 },
 "nbformat": 4,
 "nbformat_minor": 2
}
